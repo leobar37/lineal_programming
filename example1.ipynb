{
 "cells": [
  {
   "cell_type": "markdown",
   "source": [
    "## First example with Scipy\n",
    "[docs](https://educated-piranha-107.notion.site/lineal-programming-30c2ea23d11f414780741a97e7262896)\n",
    "\n",
    "![](2021-09-14-02-21-23.png)"
   ],
   "metadata": {}
  },
  {
   "cell_type": "code",
   "execution_count": 12,
   "source": [
    "from scipy.optimize import linprog\n",
    "\n",
    "## linprog solves only minimization\n",
    "obj = [-1 , -2 ]\n",
    "# coeficient x and y respectively\n",
    "\n",
    "lhs_ineq = [\n",
    "    [ 2 , 1] , # red constraint left side\n",
    "    [ -4 , 5], # blue constraint left side \n",
    "    [ 1 , -2], # yellow constraint left side\n",
    "]\n",
    "\n",
    "rhs_ineq = [\n",
    "    20 , # red constraint right side\n",
    "    10 , # blue constraint right side\n",
    "    2   #  yellow constraint right side\n",
    "]\n",
    "\n",
    "lhs_eq = [\n",
    "    [ -1, 5] # green constraint left side\n",
    "]\n",
    "\n",
    "rhs_eq = [\n",
    "    15 # green constraint right side\n",
    "]"
   ],
   "outputs": [],
   "metadata": {}
  },
  {
   "cell_type": "markdown",
   "source": [
    "- **obj:**: holds the coefficients from the objective function.\n",
    "- **lhs_ineq:**  holds the left-side coefficients from the inequality (red, blue, and yellow) constraints.\n",
    "- **rhs_ineq:** holds the right-side coefficients from the inequality (red, blue, and yellow) constraints.\n",
    "- **lhs_eq:** holds the left-side coefficients from the equality (green) constraint.\n",
    "- **rhs_eq:** holds the right-side coefficients from the equality (green) constraint"
   ],
   "metadata": {}
  },
  {
   "cell_type": "code",
   "execution_count": 13,
   "source": [
    "# bound for each variable\n",
    "# in this case the're both between zeron and infinity\n",
    "bnd = [\n",
    "    (0 , float(\"inf\")),\n",
    "    (0 , float(\"inf\"))\n",
    "]\n",
    "# see : https://docs.scipy.org/doc/scipy/reference/optimize.linprog-revised_simplex.html\n",
    "\n",
    "opt =  linprog(c=obj , A_ub=lhs_ineq ,b_ub=rhs_ineq , A_eq=lhs_eq ,b_eq=rhs_eq , bounds=bnd,method=\"revised simplex\")\n",
    "\n",
    "opt"
   ],
   "outputs": [
    {
     "output_type": "execute_result",
     "data": {
      "text/plain": [
       "     con: array([0.])\n",
       "     fun: -16.818181818181817\n",
       " message: 'Optimization terminated successfully.'\n",
       "     nit: 3\n",
       "   slack: array([ 0.        , 18.18181818,  3.36363636])\n",
       "  status: 0\n",
       " success: True\n",
       "       x: array([7.72727273, 4.54545455])"
      ]
     },
     "metadata": {},
     "execution_count": 13
    }
   ],
   "metadata": {}
  },
  {
   "cell_type": "markdown",
   "source": [
    " `linprog()` returns a data structure with these attributes:\n",
    "\n",
    "- **.con:** is the equality constraint residuals\n",
    "- **.fun:** is the objective function value at the optimun (if found)\n",
    "- **message:** The status of the solution\n",
    "- **nit:** Is the number of iterations needed to finish the calculation\n",
    "- **.slack:** is the values of the slack variables, or the differences between the values of the left and right sides of the constraints.\n",
    "- **.status:** is an integer between 0 and 4 that shows the status of the solution, such as 0 for when the optimal solution has been found.\n",
    "- **.success** is a Boolean that shows whether the optimal solution has been found"
   ],
   "metadata": {}
  },
  {
   "cell_type": "markdown",
   "source": [],
   "metadata": {}
  },
  {
   "cell_type": "markdown",
   "source": [
    "# Example 2 with the same library\n",
    "\n",
    "\n",
    "![](assets/example1/2021-09-14-22-54-08.png)\n"
   ],
   "metadata": {}
  },
  {
   "cell_type": "code",
   "execution_count": 14,
   "source": [
    "def example2():\n",
    "    obj = [- 20 , - 12 , -40 , -25]\n",
    "    lhs_ineq = [\n",
    "        [1 , 1, 1, 1 ] ,# Manpower\n",
    "        [3 , 2, 1 ,0], # material A\n",
    "        [ 0 ,1 ,2 ,3],# material B\n",
    "     ]\n",
    "    rhs_ineq = [\n",
    "         50 , # Manpower \n",
    "         100, # material A\n",
    "         90  # material B\n",
    "    ] \n",
    "    # make the solution\n",
    "    opt = linprog(c= obj , A_ub= lhs_ineq ,b_ub= rhs_ineq ,method =\"revised simplex\")\n",
    "    print(opt)"
   ],
   "outputs": [],
   "metadata": {}
  },
  {
   "cell_type": "markdown",
   "source": [
    "The previus function poses the model\n"
   ],
   "metadata": {}
  },
  {
   "cell_type": "code",
   "execution_count": 15,
   "source": [
    "example2()"
   ],
   "outputs": [
    {
     "output_type": "stream",
     "name": "stdout",
     "text": [
      "     con: array([], dtype=float64)\n",
      "     fun: -1900.0\n",
      " message: 'Optimization terminated successfully.'\n",
      "     nit: 2\n",
      "   slack: array([ 0., 40.,  0.])\n",
      "  status: 0\n",
      " success: True\n",
      "       x: array([ 5.,  0., 45.,  0.])\n"
     ]
    }
   ],
   "metadata": {}
  },
  {
   "cell_type": "markdown",
   "source": [
    "## You can draw several interesting conclusions here:\n",
    "\n",
    "1. "
   ],
   "metadata": {}
  }
 ],
 "metadata": {
  "kernelspec": {
   "name": "python3",
   "display_name": "Python 3.8.10 64-bit"
  },
  "language_info": {
   "name": "python",
   "version": "3.8.10",
   "mimetype": "text/x-python",
   "codemirror_mode": {
    "name": "ipython",
    "version": 3
   },
   "pygments_lexer": "ipython3",
   "nbconvert_exporter": "python",
   "file_extension": ".py"
  },
  "interpreter": {
   "hash": "916dbcbb3f70747c44a77c7bcd40155683ae19c65e1c03b4aa3499c5328201f1"
  }
 },
 "nbformat": 4,
 "nbformat_minor": 5
}