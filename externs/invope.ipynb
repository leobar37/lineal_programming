{
    "cells": [
        {
            "cell_type": "markdown",
            "source": [
                "**Nombres:** Elmer Joselito <br/>\n",
                "**Apellidos:** León Barboza <br/>\n",
                "**Profesor:** Vilchez Rivas, Marlon Eugenio <br/>\n"
            ],
            "metadata": {}
        },
        {
            "cell_type": "markdown",
            "source": [
                "# Problema de asignación de recursos \n",
                "\n",
                "Una fábrica produce 4 productos diferentes. El objetivo es determinar la cantidad de producción diaria que maximiza el beneficio para cada producto, teniendo en cuenta las\n",
                "siguientes condiciones.\n",
                "\n",
                "\n",
                "-  El precio por unidad de producto es de 20, 12, 40 y 25 soles para el primer, segundo, tercer y cuarto producto, respectivamente.\n",
                "\n",
                "-  Debido a las limitaciones de mano de obra, el número total de unidades producidas por día no puede superar las cincuenta.\n",
                "\n",
                "-  Para cada unidad del primer producto se consumen tres unidades de la materia prima A. Cada unidad del segundo producto requiere dos unidades de la materia prima A y una unidad de la materia prima B. Cada unidad del tercer producto necesita una unidad de A y dos unidades de B. Por último, cada unidad del cuarto producto requiere tres unidades de B.\n",
                "\n",
                "-  Debido a las limitaciones de transporte y almacenamiento, la fábrica puede consumir hasta cien unidades de la materia prima A y noventa unidades de B al día.\n"
            ],
            "metadata": {}
        },
        {
            "cell_type": "markdown",
            "source": [
                "## Planteamiento\n",
                "\n",
                "\n",
                "**Variables de decisiòn**\n",
                "\n",
                "$x_{1} =$  : *Cantidad diaria producida del producto 1*\n",
                "\n",
                "$x_{2} =$  : *Cantidad diaria producida del producto 2*\n",
                "\n",
                "$x_{3} =$  : *Cantidad diaria producida del producto 3*\n",
                "\n",
                "$x_{4} =$  : *Cantidad diaria producida del producto 4*\n"
            ],
            "metadata": {}
        },
        {
            "cell_type": "markdown",
            "source": [
                "**Función objetivo:**\n",
                "\n",
                "Maximizar la cantidad diaria producida para obtener la mejor utilidad\n",
                "\n",
                "(max) $Z= 20x_{1} + 12x_{2} + 40x_{3} +  25x_{4}$\n"
            ],
            "metadata": {}
        },
        {
            "cell_type": "markdown",
            "source": [
                "**Restricciones:**\n",
                "\n",
                "\n",
                "$x_{1} + x_{2} + x_{3} +  x_{4}  \\le 50$ (maximo de unidades producidas por la mano de obra)\n",
                " \n",
                "$3x_{1} + 2x_{2} + x_{3} \\le 100$ (unidades consumidas por material A)\n",
                "\n",
                "$x_{2} + 2x_{3} + 3x_{4} \\le 90$ (unidades consumidas por material B)\n",
                "\n",
                "$x_{1} + x_{2} + x_{3} +  x_{4} \\ge 0$\n",
                "\n",
                "\n"
            ],
            "metadata": {}
        },
        {
            "cell_type": "markdown",
            "source": [
                "## Resoluciòn \n",
                "\n",
                "Para solucionar este proble he obtado por utilizar una libreria llamada [PuLP](https://coin-or.github.io/pulp/) que provee métodos \n",
                "que nos ayudan a resolver problemas de [programación lineal](https://coin-or.github.io/pulp/main/optimisation_concepts.html).\n"
            ],
            "metadata": {}
        },
        {
            "cell_type": "code",
            "execution_count": 4,
            "source": [
                "from pulp import  LpProblem , LpVariable, LpStatus , LpMaximize, lpSum\n",
                "\n",
                "from utils  import solve_display_model"
            ],
            "outputs": [],
            "metadata": {}
        },
        {
            "cell_type": "code",
            "execution_count": 12,
            "source": [
                "# modelo\n",
                "\n",
                "def solve_display_model(model: LpProblem):\n",
                "    model.solve()\n",
                "    print(f\"status: {model.status}, {LpStatus[model.status]}\")\n",
                "    print(f\"Función objetivo: {model.objective.value()}\")\n",
                "\n",
                "    print(\"variables:\")\n",
                "    for var in model.variables():\n",
                "        print(f\"{var.name}: {var.value()}\")\n",
                "\n",
                "    print(\"Restricciones: \")\n",
                "    for name, constraint in model.constraints.items():\n",
                "        print(f\"{name}: {constraint.value()}\")\n",
                "\n",
                "\n",
                "def solve1():\n",
                "    model = LpProblem(name=\"Resource_problem\" , sense=LpMaximize)\n",
                "\n",
                "    # variables de decisión\n",
                "\n",
                "    x1 =  LpVariable(\"x1\" , lowBound=0)\n",
                "    x2 = LpVariable(\"x2\" , lowBound=0)\n",
                "    x3 = LpVariable(\"x3\" , lowBound=0)\n",
                "    x4 = LpVariable(\"x4\" , lowBound=0)\n",
                "\n",
                "    # funciòn objetivo\n",
                "\n",
                "    obj_func = 20 * x1 + 12 * x2 +  40 *  x3 + 25 *  x4\n",
                "\n",
                "    # restricciones \n",
                "\n",
                "    man_power =( x1 +  x2 + x3 + x4 <= 50 , \"man_power\")\n",
                "    a_material =  (3 * x1 + 2 * x2 + x3 <= 100 , \"a_material\")\n",
                "    b_material =  (x2  + 2 * x3 +  3 * x4 <= 90  ,\"b_material\")\n",
                "\n",
                "    model+=man_power\n",
                "    model+=a_material\n",
                "    model+=b_material\n",
                "    model+=obj_func\n",
                "    \n",
                "    solve_display_model(model)\n",
                "\n",
                "solve1()\n",
                "\n",
                "\n"
            ],
            "outputs": [
                {
                    "output_type": "stream",
                    "name": "stdout",
                    "text": [
                        "status: 1, Optimal\n",
                        "Función objetivo: 1900.0\n",
                        "variables:\n",
                        "x1: 5.0\n",
                        "x2: 0.0\n",
                        "x3: 45.0\n",
                        "x4: 0.0\n",
                        "Restricciones: \n",
                        "man_power: 0.0\n",
                        "a_material: -40.0\n",
                        "b_material: 0.0\n"
                    ]
                }
            ],
            "metadata": {}
        },
        {
            "cell_type": "markdown",
            "source": [
                "## Interpretaciòn\n",
                "\n",
                "Según el planteamiento del modelo, el objetivo fue encontrar la cantidad de productos que se deberia vender por dìa para encontrar la utilidad máxima y según el resultado se puede decir que:\n",
                "\n",
                "- La utilidad máxima que podriamos obtener en un dìa es de 1900 soles \n",
                "- No se recomieda  fabricar ningún producto de $x_{2}$ ni $x_{4}$ dadas las restricciones\n",
                "- El producto que genera más utilidad es el producto $x_{3}$ y para sacar el maximo provecho se deberia fabricas 45 unidades\n",
                "\n",
                "Segùn el resultado de las holguras se puede decir que:\n",
                "\n",
                "- La capacidad máxima de la mano de obra es de 50 unidades no sobra, ni falta.\n",
                "\n",
                "$5 + 0 + 45 + 0  \\le 50$ <br>\n",
                "$50 \\le 50$\n",
                "\n",
                "- No se utiliza toda la materia prima A, y sobra 40 unidades\n",
                "\n",
                "$3x_{1} + 2x_{2} + x_{3} \\le 100$ <br>\n",
                " $15 + 0 + 45 \\le 100$  <br>\n",
                " $60 \\le 100$ \n",
                "\n",
                "- Y tambien vemos que se logra consumir el màximo consumo de la materia prima b\n",
                "  \n",
                "$x_{2} + 2x_{3} + 3x_{4} \\le 90$ <br>\n",
                "$0 + 2(45) + 3(0) \\le 90$ <br>\n",
                "$90 \\le 90$ <br>"
            ],
            "metadata": {}
        },
        {
            "cell_type": "markdown",
            "source": [
                "## Solución con tora\n",
                "\n",
                "\n",
                "![](assets/2021-09-16-10-41-23.png)\n",
                "\n",
                "![](assets/2021-09-16-15-18-06.png)\n",
                "\n"
            ],
            "metadata": {}
        },
        {
            "cell_type": "markdown",
            "source": [
                "Esta funciòn ayudara a poder reutilizar el modelo y poder probar con distintos coeficientes"
            ],
            "metadata": {}
        },
        {
            "cell_type": "code",
            "execution_count": 49,
            "source": [
                "def solve_generic(a, b , c , d ):\n",
                "    model = LpProblem(name=\"Resource_problem\" , sense=LpMaximize)\n",
                "\n",
                "    # variables de decisión\n",
                "\n",
                "    x1 =  LpVariable(\"x1\" , lowBound=0)\n",
                "    x2 = LpVariable(\"x2\" , lowBound=0)\n",
                "    x3 = LpVariable(\"x3\" , lowBound=0)\n",
                "    x4 = LpVariable(\"x4\" , lowBound=0)\n",
                "\n",
                "    # ahora x1 tiene el coeficiente 40\n",
                "    \n",
                "    obj_func = a * x1 + b * x2 +  c *  x3 + d *  x4\n",
                "\n",
                "    # restricciones \n",
                "\n",
                "    man_power =( x1 +  x2 + x3 + x4 <= 50 , \"man_power\")\n",
                "    a_material =  (3 * x1 + 2 * x2 + x3 <= 100 , \"a_material\")\n",
                "    b_material =  (x2  + 2 * x3 +  3 * x4 <= 90  ,\"b_material\")\n",
                "\n",
                "    model+=man_power\n",
                "    model+=a_material\n",
                "    model+=b_material\n",
                "    model+=obj_func\n",
                "    \n",
                "    solve_display_model(model)\n",
                "\n"
            ],
            "outputs": [],
            "metadata": {}
        },
        {
            "cell_type": "markdown",
            "source": [
                "Esta es la soluciòn con el software tora el cual indica el mismo resultado que el que obtenimos con PuLP,pero el software tora \n",
                "nos da el análisis de la sensibilidad con el cual podemos deducir que:\n",
                "\n",
                "### variables\n",
                "\n",
                "- $x_{1}$: El coeficiente es cero y la reducciòn de costo es cero pero el maximo coeficiente es 40 osea podramos interpretar que cuando el coeficiente de $x_{1}$ \n",
                "  sea 40 podriamos encontrar otra solución optima."
            ],
            "metadata": {}
        },
        {
            "cell_type": "code",
            "execution_count": 50,
            "source": [
                "solve_generic(40 , 12 , 40 ,25)\n"
            ],
            "outputs": [
                {
                    "output_type": "stream",
                    "name": "stdout",
                    "text": [
                        "status: 1, Optimal\n",
                        "Función objetivo: 2000.0\n",
                        "variables:\n",
                        "x1: 5.0\n",
                        "x2: 0.0\n",
                        "x3: 45.0\n",
                        "x4: 0.0\n",
                        "Restricciones: \n",
                        "man_power: 0.0\n",
                        "a_material: -40.0\n",
                        "b_material: 0.0\n"
                    ]
                }
            ],
            "metadata": {}
        },
        {
            "cell_type": "markdown",
            "source": [
                "La soluciòn es la misma excepto por el resultado de la funciòn objetivo, ahora se tiene 2000 de beneficio , indicando que podriamos aumentar ese nùmero, ahora serìa cuestiòn de determinar que tanto\n",
                "es la posibilidad de poder elevar ese precio.\n",
                "\n",
                "- $x_{2}$: El costo reducido ahora es 18 indicando que ser podrìa elevar en 18 al coeficiente actual para obtener el mismo resultado.\n",
                "  "
            ],
            "metadata": {}
        },
        {
            "cell_type": "code",
            "execution_count": 51,
            "source": [
                "solve_generic(20 , (12 + 18) , 40 ,25)"
            ],
            "outputs": [
                {
                    "output_type": "stream",
                    "name": "stdout",
                    "text": [
                        "status: 1, Optimal\n",
                        "Función objetivo: 1900.0\n",
                        "variables:\n",
                        "x1: 5.0\n",
                        "x2: 0.0\n",
                        "x3: 45.0\n",
                        "x4: 0.0\n",
                        "Restricciones: \n",
                        "man_power: 0.0\n",
                        "a_material: -40.0\n",
                        "b_material: 0.0\n"
                    ]
                }
            ],
            "metadata": {}
        },
        {
            "cell_type": "markdown",
            "source": [
                "### Constraints\n",
                "\n",
                "- **Materia prima A 1 (<):** Esta restriccion no es vinculante y siempre van a sobrar 40 unidades\n",
                "- **Materia prima B 2 (<):** El `Dual price` nos indica que si se tuviera 1 unidad màs de la materia prima B se produciria 10 unidades de màs.\n",
                "- **mano de obra 3 (<):** El `Dual price` nos indica que si se tuviera 1 trabajador màs se lograria producir 20 unidades màs pero debido a las otras restriccciones lo maximo que podriamos llegar a producir es 63 \n"
            ],
            "metadata": {}
        }
    ],
    "metadata": {
        "title": "Ivestigación de operaciones",
        "orig_nbformat": 4,
        "language_info": {
            "name": "python",
            "version": "3.8.10",
            "mimetype": "text/x-python",
            "codemirror_mode": {
                "name": "ipython",
                "version": 3
            },
            "pygments_lexer": "ipython3",
            "nbconvert_exporter": "python",
            "file_extension": ".py"
        },
        "kernelspec": {
            "name": "python3",
            "display_name": "Python 3.8.10 64-bit"
        },
        "interpreter": {
            "hash": "916dbcbb3f70747c44a77c7bcd40155683ae19c65e1c03b4aa3499c5328201f1"
        }
    },
    "nbformat": 4,
    "nbformat_minor": 2
}