{
 "cells": [
  {
   "cell_type": "markdown",
   "source": [
    "# Example 1 using PuLP\n",
    "![](assets/2021-09-15-11-30-47.png)\n",
    "\n",
    "\n"
   ],
   "metadata": {}
  },
  {
   "cell_type": "code",
   "execution_count": 26,
   "source": [
    "\n",
    "from  pulp import  LpMaximize, LpProblem,LpMinimize , LpStatus , lpSum , LpVariable\n"
   ],
   "outputs": [],
   "metadata": {}
  },
  {
   "cell_type": "markdown",
   "source": [
    "initialize the instance of `LpProblem`  to represent your model"
   ],
   "metadata": {}
  },
  {
   "cell_type": "code",
   "execution_count": 27,
   "source": [
    "#  you use the sense parameter  to chosse whatever to perform minimization\n",
    "# (lpMaximize or -1  and LpMinimize or 1) LpMinimize default option is 1 \n",
    "\n",
    "model =  LpProblem(name=\"problem-example-1\" , sense=LpMaximize)\n"
   ],
   "outputs": [],
   "metadata": {}
  },
  {
   "cell_type": "markdown",
   "source": [
    "Now define the  decision variables  variables \n",
    "\n",
    "**note:** yo need to provide a lower bound `lowBound=0` because the default variable is `-infinity`"
   ],
   "metadata": {}
  },
  {
   "cell_type": "code",
   "execution_count": 28,
   "source": [
    "# additionally you have c option, which define the category of decision variable\n",
    "\n",
    "x = LpVariable(name=\"x\" , lowBound=0)\n",
    "y= LpVariable(name =\"y\" , lowBound=0)"
   ],
   "outputs": [],
   "metadata": {}
  },
  {
   "cell_type": "markdown",
   "source": [
    "now to have to add the constraints in the model"
   ],
   "metadata": {}
  },
  {
   "cell_type": "code",
   "execution_count": 38,
   "source": [
    "\n",
    "# clean the variables \n",
    "model.constraints.clear()\n",
    "model.objective.clear()\n",
    "\n",
    "model+=  (2*x + y <= 20 ,  \"red_constraint\")\n",
    "model+= (-4 * x +  5 *  y <= 10  , \"blue_constraint\")\n",
    "model+= (- x + 2 *  y >= -2, \"yellow_constraint\")\n",
    "model+= (- x +  5 * y == 15 , \"green_constraint\")\n",
    "\n",
    "obj_func = x + 2 * y\n",
    "\n",
    "model+=obj_func\n"
   ],
   "outputs": [],
   "metadata": {}
  },
  {
   "cell_type": "markdown",
   "source": [
    "**solution:**"
   ],
   "metadata": {}
  },
  {
   "cell_type": "code",
   "execution_count": 1,
   "source": [
    "\n",
    "model.solve()\n",
    "\n",
    "print(f\"status: {model.status}, {LpStatus[model.status]}\")\n",
    "\n",
    "print(f\"objective: {model.objective.value()}\")\n",
    "\n",
    "for var in model.variables():\n",
    "   print(f\"{var.name}: {var.value()}\")\n",
    "\n",
    "for name, constraint in model.constraints.items():\n",
    "   print(f\"{name}: {constraint.value()}\")"
   ],
   "outputs": [
    {
     "output_type": "error",
     "ename": "NameError",
     "evalue": "name 'model' is not defined",
     "traceback": [
      "\u001b[0;31m---------------------------------------------------------------------------\u001b[0m",
      "\u001b[0;31mNameError\u001b[0m                                 Traceback (most recent call last)",
      "\u001b[0;32m/tmp/ipykernel_44352/1693096559.py\u001b[0m in \u001b[0;36m<module>\u001b[0;34m\u001b[0m\n\u001b[0;32m----> 1\u001b[0;31m \u001b[0mmodel\u001b[0m\u001b[0;34m.\u001b[0m\u001b[0msolve\u001b[0m\u001b[0;34m(\u001b[0m\u001b[0;34m)\u001b[0m\u001b[0;34m\u001b[0m\u001b[0;34m\u001b[0m\u001b[0m\n\u001b[0m\u001b[1;32m      2\u001b[0m \u001b[0;34m\u001b[0m\u001b[0m\n\u001b[1;32m      3\u001b[0m \u001b[0mprint\u001b[0m\u001b[0;34m(\u001b[0m\u001b[0;34mf\"status: {model.status}, {LpStatus[model.status]}\"\u001b[0m\u001b[0;34m)\u001b[0m\u001b[0;34m\u001b[0m\u001b[0;34m\u001b[0m\u001b[0m\n\u001b[1;32m      4\u001b[0m \u001b[0;34m\u001b[0m\u001b[0m\n\u001b[1;32m      5\u001b[0m \u001b[0mprint\u001b[0m\u001b[0;34m(\u001b[0m\u001b[0;34mf\"objective: {model.objective.value()}\"\u001b[0m\u001b[0;34m)\u001b[0m\u001b[0;34m\u001b[0m\u001b[0;34m\u001b[0m\u001b[0m\n",
      "\u001b[0;31mNameError\u001b[0m: name 'model' is not defined"
     ]
    }
   ],
   "metadata": {}
  }
 ],
 "metadata": {
  "orig_nbformat": 4,
  "language_info": {
   "name": "python",
   "version": "3.8.10",
   "mimetype": "text/x-python",
   "codemirror_mode": {
    "name": "ipython",
    "version": 3
   },
   "pygments_lexer": "ipython3",
   "nbconvert_exporter": "python",
   "file_extension": ".py"
  },
  "kernelspec": {
   "name": "python3",
   "display_name": "Python 3.8.10 64-bit"
  },
  "interpreter": {
   "hash": "916dbcbb3f70747c44a77c7bcd40155683ae19c65e1c03b4aa3499c5328201f1"
  }
 },
 "nbformat": 4,
 "nbformat_minor": 2
}