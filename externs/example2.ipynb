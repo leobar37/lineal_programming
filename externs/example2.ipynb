{
 "cells": [
  {
   "cell_type": "markdown",
   "source": [
    "## Example 2 \n",
    "\n",
    "![](assets/2021-09-15-13-47-38.png)"
   ],
   "metadata": {}
  },
  {
   "cell_type": "code",
   "execution_count": 1,
   "source": [
    "from pulp import LpProblem , lpSum, LpVariable  , LpMaximize\n",
    "from utils import solve_display_model\n",
    "model =  LpProblem(name=\"Resource-location\" ,sense= LpMaximize)\n",
    "\n",
    "# varibles\n",
    "\n",
    "x1 =  LpVariable(\"x1\" , lowBound=0)\n",
    "x2 =  LpVariable(\"x2\" , lowBound=0)\n",
    "x3 = LpVariable(\"x3\" , lowBound=0)\n",
    "x4 = LpVariable(\"X4\" , lowBound=0)\n",
    "\n",
    "# objetive function\n",
    "\n",
    "obj_function  =  lpSum([20 *  x1 , 12  *  x2 , 40 *  x3 , 25 *  x4])\n",
    "\n",
    "# constraints \n",
    "\n",
    "manpower =   (x1 + x2 +  x3 + x4  <= 50 , \"man_power\")\n",
    "\n",
    "material_a =  (3* x1  + 2 * x2 + x3 <= 100 , \"material_a\")\n",
    "\n",
    "material_b =  (x2 +  2 *  x3 +  3 * x4 <= 90 , \"material_b\")\n",
    "\n",
    "# add constraints\n",
    "model+= manpower\n",
    "model += material_a\n",
    "model += material_b\n",
    "# add obj function\n",
    "\n",
    "model += obj_function\n",
    "\n",
    "solve_display_model(model)\n"
   ],
   "outputs": [
    {
     "output_type": "stream",
     "name": "stdout",
     "text": [
      "status: 1, Optimal\n",
      "objective: 1900.0\n",
      "variables:\n",
      "X4: 0.0\n",
      "x1: 5.0\n",
      "x2: 0.0\n",
      "x3: 45.0\n",
      "constraints\n",
      "man_power: 0.0\n",
      "material_a: -40.0\n",
      "material_b: 0.0\n"
     ]
    }
   ],
   "metadata": {}
  },
  {
   "cell_type": "markdown",
   "source": [
    "## Interpretation\n",
    "\n",
    "he most profitable solution is to produce 5.0 units of the first product and 45.0 units of the third product per day.\n",
    "\n"
   ],
   "metadata": {}
  }
 ],
 "metadata": {
  "orig_nbformat": 4,
  "language_info": {
   "name": "python",
   "version": "3.8.10",
   "mimetype": "text/x-python",
   "codemirror_mode": {
    "name": "ipython",
    "version": 3
   },
   "pygments_lexer": "ipython3",
   "nbconvert_exporter": "python",
   "file_extension": ".py"
  },
  "kernelspec": {
   "name": "python3",
   "display_name": "Python 3.8.10 64-bit"
  },
  "interpreter": {
   "hash": "916dbcbb3f70747c44a77c7bcd40155683ae19c65e1c03b4aa3499c5328201f1"
  }
 },
 "nbformat": 4,
 "nbformat_minor": 2
}