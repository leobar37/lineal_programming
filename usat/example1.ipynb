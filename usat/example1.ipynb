{
    "cells": [
        {
            "cell_type": "markdown",
            "source": [
                "## Exercise\n",
                "\n",
                "![](assets/example1/2021-09-15-10-56-23.png)"
            ],
            "metadata": {}
        },
        {
            "cell_type": "code",
            "execution_count": 30,
            "source": [
                "from scipy.optimize import  linprog\n",
                "\n",
                "\n",
                "obj = [-5 ,  - 4]\n",
                "\n",
                "lhs_ineq = [ \n",
                "    [ 6 , 4],\n",
                "    [1 , 2],\n",
                "    [-1 , 1 ],\n",
                "    [ 0 , 1 ]\n",
                "]\n",
                "\n",
                "rhs_ineq = [ \n",
                "    24,\n",
                "    6,\n",
                "    1,\n",
                "    2\n",
                "]\n",
                "\n",
                "\n",
                "solution = linprog(c= obj , A_ub=lhs_ineq ,  b_ub=rhs_ineq , method=\"revised simplex\")\n",
                "\n",
                "solution\n"
            ],
            "outputs": [
                {
                    "output_type": "execute_result",
                    "data": {
                        "text/plain": [
                            "     con: array([], dtype=float64)\n",
                            "     fun: -21.0\n",
                            " message: 'Optimization terminated successfully.'\n",
                            "     nit: 2\n",
                            "   slack: array([0. , 0. , 2.5, 0.5])\n",
                            "  status: 0\n",
                            " success: True\n",
                            "       x: array([3. , 1.5])"
                        ]
                    },
                    "metadata": {},
                    "execution_count": 30
                }
            ],
            "metadata": {}
        },
        {
            "cell_type": "markdown",
            "source": [
                "# Solution with pulp"
            ],
            "metadata": {}
        },
        {
            "cell_type": "code",
            "execution_count": 5,
            "source": [
                "\n",
                "from pulp import LpVariable , LpMaximize , LpProblem \n",
                "from utils import solve_display_model "
            ],
            "outputs": [],
            "metadata": {}
        },
        {
            "cell_type": "code",
            "execution_count": 6,
            "source": [
                "model =  LpProblem(name=\"Exercicse1\" , sense=LpMaximize)\n",
                "x = LpVariable(\"x\", lowBound=0)\n",
                "y = LpVariable(\"y\" , lowBound=0)\n",
                "# restriccions\n",
                "model +=  6 * x  +  4 *  y <= 24\n",
                "model += x + 2 * y <= 6\n",
                "model +=  -x + y <= 1\n",
                "model += y <= 2\n",
                "# objective function\n",
                "model+=  5 * x + 4 * y \n",
                "\n",
                "solve_display_model(model)"
            ],
            "outputs": [
                {
                    "output_type": "stream",
                    "name": "stdout",
                    "text": [
                        "status: 1, Optimal\n",
                        "objective: 21.0\n",
                        "variables values\n",
                        "x: 3.0\n",
                        "y: 1.5\n",
                        "coeficients\n",
                        "('x', '_C1', 6)\n",
                        "('y', '_C1', 4)\n",
                        "('x', '_C2', 1)\n",
                        "('y', '_C2', 2)\n",
                        "('x', '_C3', -1)\n",
                        "('y', '_C3', 1)\n",
                        "('y', '_C4', 1)\n",
                        "constraints\n",
                        "_C1: 0.0\n",
                        "_C2: 0.0\n",
                        "_C3: -2.5\n",
                        "_C4: -0.5\n"
                    ]
                }
            ],
            "metadata": {}
        }
    ],
    "metadata": {
        "orig_nbformat": 4,
        "language_info": {
            "name": "python",
            "version": "3.8.10",
            "mimetype": "text/x-python",
            "codemirror_mode": {
                "name": "ipython",
                "version": 3
            },
            "pygments_lexer": "ipython3",
            "nbconvert_exporter": "python",
            "file_extension": ".py"
        },
        "kernelspec": {
            "name": "python3",
            "display_name": "Python 3.8.10 64-bit"
        },
        "interpreter": {
            "hash": "916dbcbb3f70747c44a77c7bcd40155683ae19c65e1c03b4aa3499c5328201f1"
        }
    },
    "nbformat": 4,
    "nbformat_minor": 2
}